{
 "cells": [
  {
   "cell_type": "markdown",
   "metadata": {},
   "source": [
    "# Анализ пространственных данных. Домашнее задание №1"
   ]
  },
  {
   "cell_type": "markdown",
   "metadata": {},
   "source": [
    "Данные для выполнения заданий можно найти [здесь](https://yadi.sk/d/xBemeb0ODlhCAQ?w=1)\n",
    "\n",
    "Дедлайн: __20 октября 2020 г. 09:00__"
   ]
  },
  {
   "cell_type": "markdown",
   "metadata": {},
   "source": [
    "ФИО: `Иванов Александр Вадимович`"
   ]
  },
  {
   "cell_type": "markdown",
   "metadata": {},
   "source": [
    "Группа: `MADE-DS-12`"
   ]
  },
  {
   "cell_type": "code",
   "execution_count": 1,
   "metadata": {},
   "outputs": [],
   "source": [
    "import os\n",
    "import pandas as pd\n",
    "import numpy as np\n",
    "\n",
    "import geopandas as gpd\n",
    "from shapely.geometry import Point, LineString, MultiLineString\n",
    "\n",
    "import mapclassify"
   ]
  },
  {
   "cell_type": "markdown",
   "metadata": {},
   "source": [
    "## Задание №1. Reading coordinates from a file and creating a geometries. 4 балла."
   ]
  },
  {
   "cell_type": "markdown",
   "metadata": {},
   "source": [
    "One of the \"classical\" problems in GIS is the situation where you have a set of coordinates in a file and you need to get them into a map (or into a GIS-software). Dataset `travelTimes_2015_Helsinki.txt` consist of travel times between specific locations in Helsinki Region."
   ]
  },
  {
   "cell_type": "markdown",
   "metadata": {},
   "source": [
    "1. Read the data into memory.\n",
    "2. Read 4 columns `from_x`, `from_y`, `to_x`, `to_y` from the data.\n",
    "3. Create two lists called __orig_points__ and __dest_points__\n",
    "4. Iterate over the rows of your numpy array and add Shapely Point -objects into the __orig_points__ -list and __dest_point__ -list representing the origin locations and destination locations accordingly."
   ]
  },
  {
   "cell_type": "markdown",
   "metadata": {},
   "source": [
    "`from_x`: x-coordinate of the __origin__ location (longitude)\n",
    "\n",
    "`from_y`: y-coordinate of the __origin__ location (latitude)\n",
    "\n",
    "`to_x`: x-coordinate of the __destination__ location (longitude)\n",
    "\n",
    "`to_y`: y-coordinate of the __destination__ location (latitude)"
   ]
  },
  {
   "cell_type": "code",
   "execution_count": 2,
   "metadata": {},
   "outputs": [
    {
     "name": "stdout",
     "output_type": "stream",
     "text": [
      "from_id;to_id;fromid_toid;route_number;at;from_x;from_y;to_x;to_y;total_route_time;route_time;route_distance;route_total_lines\n",
      "5861326;5785640;5861326_5785640;1;08:10;24.9704379;60.3119173;24.8560344;60.399940599999994;125.0;99.0;22917.6;2.0\n",
      "5861326;5785641;5861326_5785641;1;08:10;24.9704379;60.3119173;24.8605682;60.4000135;123.0;102.0;23123.5;2.0\n",
      "5861326;5785642;5861326_5785642;1;08:10;24.9704379;60.3119173;24.865102;60.4000863;125.0;103.0;23241.3;2.0\n",
      "5861326;5785643;5861326_5785643;1;08:10;24.9704379;60.3119173;24.8696358;60.4001589;129.0;107.0;23534.2;2.0\n",
      "5861326;5787544;5861326_5787544;1;08:10;24.9704379;60.3119173;24.842581699999997;60.39747779999999;118.0;92.0;22428.2;2.0\n",
      "5861326;5787545;5861326_5787545;1;08:10;24.9704379;60.3119173;24.8471151;60.39755110000001;119.0;93.0;22497.3;2.0\n",
      "5861326;5787546;5861326_5787546;1;08:10;24.9704379;60.3119173;24.8516485;60.3976244;123.0;96.0;22723.1;2.0\n",
      "5861326;5787547;5861326_5787547;1;08:10;24.9704379;60.3119173;24.856182;60.3976975;129.0;109.0;23622.4;2.0\n",
      "5861326;5787548;5861326_5787548;1;08:10;24.9704379;60.3119173;24.860715399999997;60.397770400000006;125.0;105.0;23349.9;2.0\n"
     ]
    }
   ],
   "source": [
    "!head HW1_data/travelTimes_2015_Helsinki.txt"
   ]
  },
  {
   "cell_type": "code",
   "execution_count": 3,
   "metadata": {},
   "outputs": [
    {
     "data": {
      "text/html": [
       "<div>\n",
       "<style scoped>\n",
       "    .dataframe tbody tr th:only-of-type {\n",
       "        vertical-align: middle;\n",
       "    }\n",
       "\n",
       "    .dataframe tbody tr th {\n",
       "        vertical-align: top;\n",
       "    }\n",
       "\n",
       "    .dataframe thead th {\n",
       "        text-align: right;\n",
       "    }\n",
       "</style>\n",
       "<table border=\"1\" class=\"dataframe\">\n",
       "  <thead>\n",
       "    <tr style=\"text-align: right;\">\n",
       "      <th></th>\n",
       "      <th>from_id</th>\n",
       "      <th>to_id</th>\n",
       "      <th>fromid_toid</th>\n",
       "      <th>route_number</th>\n",
       "      <th>at</th>\n",
       "      <th>from_x</th>\n",
       "      <th>from_y</th>\n",
       "      <th>to_x</th>\n",
       "      <th>to_y</th>\n",
       "      <th>total_route_time</th>\n",
       "      <th>route_time</th>\n",
       "      <th>route_distance</th>\n",
       "      <th>route_total_lines</th>\n",
       "    </tr>\n",
       "  </thead>\n",
       "  <tbody>\n",
       "    <tr>\n",
       "      <th>0</th>\n",
       "      <td>5861326</td>\n",
       "      <td>5785640</td>\n",
       "      <td>5861326_5785640</td>\n",
       "      <td>1</td>\n",
       "      <td>08:10</td>\n",
       "      <td>24.970438</td>\n",
       "      <td>60.311917</td>\n",
       "      <td>24.856034</td>\n",
       "      <td>60.399941</td>\n",
       "      <td>125.0</td>\n",
       "      <td>99.0</td>\n",
       "      <td>22917.6</td>\n",
       "      <td>2.0</td>\n",
       "    </tr>\n",
       "    <tr>\n",
       "      <th>1</th>\n",
       "      <td>5861326</td>\n",
       "      <td>5785641</td>\n",
       "      <td>5861326_5785641</td>\n",
       "      <td>1</td>\n",
       "      <td>08:10</td>\n",
       "      <td>24.970438</td>\n",
       "      <td>60.311917</td>\n",
       "      <td>24.860568</td>\n",
       "      <td>60.400014</td>\n",
       "      <td>123.0</td>\n",
       "      <td>102.0</td>\n",
       "      <td>23123.5</td>\n",
       "      <td>2.0</td>\n",
       "    </tr>\n",
       "    <tr>\n",
       "      <th>2</th>\n",
       "      <td>5861326</td>\n",
       "      <td>5785642</td>\n",
       "      <td>5861326_5785642</td>\n",
       "      <td>1</td>\n",
       "      <td>08:10</td>\n",
       "      <td>24.970438</td>\n",
       "      <td>60.311917</td>\n",
       "      <td>24.865102</td>\n",
       "      <td>60.400086</td>\n",
       "      <td>125.0</td>\n",
       "      <td>103.0</td>\n",
       "      <td>23241.3</td>\n",
       "      <td>2.0</td>\n",
       "    </tr>\n",
       "    <tr>\n",
       "      <th>3</th>\n",
       "      <td>5861326</td>\n",
       "      <td>5785643</td>\n",
       "      <td>5861326_5785643</td>\n",
       "      <td>1</td>\n",
       "      <td>08:10</td>\n",
       "      <td>24.970438</td>\n",
       "      <td>60.311917</td>\n",
       "      <td>24.869636</td>\n",
       "      <td>60.400159</td>\n",
       "      <td>129.0</td>\n",
       "      <td>107.0</td>\n",
       "      <td>23534.2</td>\n",
       "      <td>2.0</td>\n",
       "    </tr>\n",
       "    <tr>\n",
       "      <th>4</th>\n",
       "      <td>5861326</td>\n",
       "      <td>5787544</td>\n",
       "      <td>5861326_5787544</td>\n",
       "      <td>1</td>\n",
       "      <td>08:10</td>\n",
       "      <td>24.970438</td>\n",
       "      <td>60.311917</td>\n",
       "      <td>24.842582</td>\n",
       "      <td>60.397478</td>\n",
       "      <td>118.0</td>\n",
       "      <td>92.0</td>\n",
       "      <td>22428.2</td>\n",
       "      <td>2.0</td>\n",
       "    </tr>\n",
       "  </tbody>\n",
       "</table>\n",
       "</div>"
      ],
      "text/plain": [
       "   from_id    to_id      fromid_toid  route_number     at     from_x  \\\n",
       "0  5861326  5785640  5861326_5785640             1  08:10  24.970438   \n",
       "1  5861326  5785641  5861326_5785641             1  08:10  24.970438   \n",
       "2  5861326  5785642  5861326_5785642             1  08:10  24.970438   \n",
       "3  5861326  5785643  5861326_5785643             1  08:10  24.970438   \n",
       "4  5861326  5787544  5861326_5787544             1  08:10  24.970438   \n",
       "\n",
       "      from_y       to_x       to_y  total_route_time  route_time  \\\n",
       "0  60.311917  24.856034  60.399941             125.0        99.0   \n",
       "1  60.311917  24.860568  60.400014             123.0       102.0   \n",
       "2  60.311917  24.865102  60.400086             125.0       103.0   \n",
       "3  60.311917  24.869636  60.400159             129.0       107.0   \n",
       "4  60.311917  24.842582  60.397478             118.0        92.0   \n",
       "\n",
       "   route_distance  route_total_lines  \n",
       "0         22917.6                2.0  \n",
       "1         23123.5                2.0  \n",
       "2         23241.3                2.0  \n",
       "3         23534.2                2.0  \n",
       "4         22428.2                2.0  "
      ]
     },
     "execution_count": 3,
     "metadata": {},
     "output_type": "execute_result"
    }
   ],
   "source": [
    "travelTimes_2015_Helsinki = pd.read_csv('HW1_data/travelTimes_2015_Helsinki.txt', sep=';')\n",
    "travelTimes_2015_Helsinki.head()"
   ]
  },
  {
   "cell_type": "code",
   "execution_count": 4,
   "metadata": {},
   "outputs": [],
   "source": [
    "orig_points = travelTimes_2015_Helsinki[['from_x', 'from_y']].apply(lambda points: Point(points.from_x, points.from_y), axis=1)\n",
    "dest_points = travelTimes_2015_Helsinki[['to_x', 'to_y']].apply(lambda points: Point(points.to_x, points.to_y), axis=1)"
   ]
  },
  {
   "cell_type": "code",
   "execution_count": 5,
   "metadata": {},
   "outputs": [
    {
     "name": "stdout",
     "output_type": "stream",
     "text": [
      "POINT (24.9704379 60.3119173)\n"
     ]
    }
   ],
   "source": [
    "print(orig_points[0].wkt)"
   ]
  },
  {
   "cell_type": "markdown",
   "metadata": {},
   "source": [
    "## Задание №2. Creating LineStrings that represent the movements. 6 баллов."
   ]
  },
  {
   "cell_type": "markdown",
   "metadata": {},
   "source": [
    "Please use data from previous task:"
   ]
  },
  {
   "cell_type": "markdown",
   "metadata": {},
   "source": [
    "1. Create a list called `lines`\n",
    "2. Iterate over the __orig_points__ and __dest_points__ lists and create a Shapely _LineString_ -object between the origin and destination point\n",
    "3. Add that line into the `lines` -list.\n",
    "4. Find out what is the average (Euclidian) distance of all the origin-destination _LineStrings_ that we just created, and print it out."
   ]
  },
  {
   "cell_type": "code",
   "execution_count": 6,
   "metadata": {},
   "outputs": [],
   "source": [
    "lines = [LineString(orig_dest) for orig_dest in zip(orig_points, dest_points)]"
   ]
  },
  {
   "cell_type": "code",
   "execution_count": 7,
   "metadata": {},
   "outputs": [
    {
     "name": "stdout",
     "output_type": "stream",
     "text": [
      "LINESTRING (24.9704379 60.3119173, 24.8560344 60.3999406)\n"
     ]
    }
   ],
   "source": [
    "print(lines[0].wkt)"
   ]
  },
  {
   "cell_type": "code",
   "execution_count": 8,
   "metadata": {},
   "outputs": [
    {
     "name": "stdout",
     "output_type": "stream",
     "text": [
      "Average distance: 0.2150222482322721\n"
     ]
    }
   ],
   "source": [
    "print('Average distance:', np.mean([l.length for l in lines]))"
   ]
  },
  {
   "cell_type": "markdown",
   "metadata": {},
   "source": [
    "## Задание №3. Points to map. 4 балла."
   ]
  },
  {
   "cell_type": "markdown",
   "metadata": {},
   "source": [
    "Aim is to plot a set of x and y coordinates that we should read from a `some_posts.csv`. The data has 81379 rows and consists of locations and times of social media posts inside Kruger national park in South Africa."
   ]
  },
  {
   "cell_type": "markdown",
   "metadata": {},
   "source": [
    "1. Read the data into memory.\n",
    "2. Create an empty column called `geometry` where you will store shapely _Point_ objects\n",
    "3. Iterate over the rows of the DataFrame (__x__ and __y__ -coordinates) and insert _Point_ objects into column `geometry`\n",
    "4. Convert that DataFrame into a GeoDataFrame\n",
    "5. Update the CRS for coordinate system as WGS84 (i.e. epsg code: 4326)\n",
    "6. Save the data into a Shapefile called `Kruger_posts.shp`\n",
    "7. Create a simple map of those points using .plot() -funtion"
   ]
  },
  {
   "cell_type": "markdown",
   "metadata": {},
   "source": [
    "`lat`: y-coordinate of the post\n",
    "\n",
    "`lon`: x-coordinate of the post\n",
    "\n",
    "`timestamp`: Time when the post was uploaded\n",
    "\n",
    "`userid`: userid"
   ]
  },
  {
   "cell_type": "code",
   "execution_count": 9,
   "metadata": {},
   "outputs": [
    {
     "name": "stdout",
     "output_type": "stream",
     "text": [
      "lat,lon,timestamp,userid\n",
      "-24.980792492,31.484633302,2015-07-07 03:02,66487960\n",
      "-25.499224667,31.508905612,2015-07-07 03:18,65281761\n",
      "-24.342578456,30.930866066,2015-03-07 03:38,90916112\n",
      "-24.85461393,31.519718439,2015-10-07 05:04,37959089\n",
      "-24.921068894,31.520835558,2015-10-07 05:19,27793716\n",
      "-24.047833333,31.687,2015-05-07 05:55,88751696\n",
      "-24.044,31.687,2015-03-07 05:57,88751696\n",
      "-25.498371054,30.983844086,2015-09-07 06:21,52431146\n",
      "-24.342279492,30.990728478,2015-07-07 07:15,11505530\n"
     ]
    }
   ],
   "source": [
    "!head HW1_data/some_posts.txt"
   ]
  },
  {
   "cell_type": "code",
   "execution_count": 10,
   "metadata": {},
   "outputs": [
    {
     "data": {
      "text/html": [
       "<div>\n",
       "<style scoped>\n",
       "    .dataframe tbody tr th:only-of-type {\n",
       "        vertical-align: middle;\n",
       "    }\n",
       "\n",
       "    .dataframe tbody tr th {\n",
       "        vertical-align: top;\n",
       "    }\n",
       "\n",
       "    .dataframe thead th {\n",
       "        text-align: right;\n",
       "    }\n",
       "</style>\n",
       "<table border=\"1\" class=\"dataframe\">\n",
       "  <thead>\n",
       "    <tr style=\"text-align: right;\">\n",
       "      <th></th>\n",
       "      <th>lat</th>\n",
       "      <th>lon</th>\n",
       "      <th>timestamp</th>\n",
       "      <th>userid</th>\n",
       "      <th>geometry</th>\n",
       "    </tr>\n",
       "  </thead>\n",
       "  <tbody>\n",
       "    <tr>\n",
       "      <th>0</th>\n",
       "      <td>-24.980792</td>\n",
       "      <td>31.484633</td>\n",
       "      <td>2015-07-07 03:02</td>\n",
       "      <td>66487960</td>\n",
       "      <td>POINT (31.484633302 -24.980792492)</td>\n",
       "    </tr>\n",
       "    <tr>\n",
       "      <th>1</th>\n",
       "      <td>-25.499225</td>\n",
       "      <td>31.508906</td>\n",
       "      <td>2015-07-07 03:18</td>\n",
       "      <td>65281761</td>\n",
       "      <td>POINT (31.508905612 -25.499224667)</td>\n",
       "    </tr>\n",
       "    <tr>\n",
       "      <th>2</th>\n",
       "      <td>-24.342578</td>\n",
       "      <td>30.930866</td>\n",
       "      <td>2015-03-07 03:38</td>\n",
       "      <td>90916112</td>\n",
       "      <td>POINT (30.930866066 -24.342578456)</td>\n",
       "    </tr>\n",
       "    <tr>\n",
       "      <th>3</th>\n",
       "      <td>-24.854614</td>\n",
       "      <td>31.519718</td>\n",
       "      <td>2015-10-07 05:04</td>\n",
       "      <td>37959089</td>\n",
       "      <td>POINT (31.519718439 -24.85461393)</td>\n",
       "    </tr>\n",
       "    <tr>\n",
       "      <th>4</th>\n",
       "      <td>-24.921069</td>\n",
       "      <td>31.520836</td>\n",
       "      <td>2015-10-07 05:19</td>\n",
       "      <td>27793716</td>\n",
       "      <td>POINT (31.520835558 -24.921068894)</td>\n",
       "    </tr>\n",
       "  </tbody>\n",
       "</table>\n",
       "</div>"
      ],
      "text/plain": [
       "         lat        lon         timestamp    userid  \\\n",
       "0 -24.980792  31.484633  2015-07-07 03:02  66487960   \n",
       "1 -25.499225  31.508906  2015-07-07 03:18  65281761   \n",
       "2 -24.342578  30.930866  2015-03-07 03:38  90916112   \n",
       "3 -24.854614  31.519718  2015-10-07 05:04  37959089   \n",
       "4 -24.921069  31.520836  2015-10-07 05:19  27793716   \n",
       "\n",
       "                             geometry  \n",
       "0  POINT (31.484633302 -24.980792492)  \n",
       "1  POINT (31.508905612 -25.499224667)  \n",
       "2  POINT (30.930866066 -24.342578456)  \n",
       "3   POINT (31.519718439 -24.85461393)  \n",
       "4  POINT (31.520835558 -24.921068894)  "
      ]
     },
     "execution_count": 10,
     "metadata": {},
     "output_type": "execute_result"
    }
   ],
   "source": [
    "posts = pd.read_csv('HW1_data/some_posts.txt')\n",
    "posts['geometry'] = None\n",
    "posts['geometry'] = posts[['lat', 'lon']].apply(lambda points: Point(points.lon, points.lat), axis=1)\n",
    "posts.head()"
   ]
  },
  {
   "cell_type": "code",
   "execution_count": 11,
   "metadata": {},
   "outputs": [
    {
     "data": {
      "text/html": [
       "<div>\n",
       "<style scoped>\n",
       "    .dataframe tbody tr th:only-of-type {\n",
       "        vertical-align: middle;\n",
       "    }\n",
       "\n",
       "    .dataframe tbody tr th {\n",
       "        vertical-align: top;\n",
       "    }\n",
       "\n",
       "    .dataframe thead th {\n",
       "        text-align: right;\n",
       "    }\n",
       "</style>\n",
       "<table border=\"1\" class=\"dataframe\">\n",
       "  <thead>\n",
       "    <tr style=\"text-align: right;\">\n",
       "      <th></th>\n",
       "      <th>lat</th>\n",
       "      <th>lon</th>\n",
       "      <th>timestamp</th>\n",
       "      <th>userid</th>\n",
       "      <th>geometry</th>\n",
       "    </tr>\n",
       "  </thead>\n",
       "  <tbody>\n",
       "    <tr>\n",
       "      <th>0</th>\n",
       "      <td>-24.980792</td>\n",
       "      <td>31.484633</td>\n",
       "      <td>2015-07-07 03:02</td>\n",
       "      <td>66487960</td>\n",
       "      <td>POINT (31.48463 -24.98079)</td>\n",
       "    </tr>\n",
       "    <tr>\n",
       "      <th>1</th>\n",
       "      <td>-25.499225</td>\n",
       "      <td>31.508906</td>\n",
       "      <td>2015-07-07 03:18</td>\n",
       "      <td>65281761</td>\n",
       "      <td>POINT (31.50891 -25.49922)</td>\n",
       "    </tr>\n",
       "    <tr>\n",
       "      <th>2</th>\n",
       "      <td>-24.342578</td>\n",
       "      <td>30.930866</td>\n",
       "      <td>2015-03-07 03:38</td>\n",
       "      <td>90916112</td>\n",
       "      <td>POINT (30.93087 -24.34258)</td>\n",
       "    </tr>\n",
       "    <tr>\n",
       "      <th>3</th>\n",
       "      <td>-24.854614</td>\n",
       "      <td>31.519718</td>\n",
       "      <td>2015-10-07 05:04</td>\n",
       "      <td>37959089</td>\n",
       "      <td>POINT (31.51972 -24.85461)</td>\n",
       "    </tr>\n",
       "    <tr>\n",
       "      <th>4</th>\n",
       "      <td>-24.921069</td>\n",
       "      <td>31.520836</td>\n",
       "      <td>2015-10-07 05:19</td>\n",
       "      <td>27793716</td>\n",
       "      <td>POINT (31.52084 -24.92107)</td>\n",
       "    </tr>\n",
       "  </tbody>\n",
       "</table>\n",
       "</div>"
      ],
      "text/plain": [
       "         lat        lon         timestamp    userid  \\\n",
       "0 -24.980792  31.484633  2015-07-07 03:02  66487960   \n",
       "1 -25.499225  31.508906  2015-07-07 03:18  65281761   \n",
       "2 -24.342578  30.930866  2015-03-07 03:38  90916112   \n",
       "3 -24.854614  31.519718  2015-10-07 05:04  37959089   \n",
       "4 -24.921069  31.520836  2015-10-07 05:19  27793716   \n",
       "\n",
       "                     geometry  \n",
       "0  POINT (31.48463 -24.98079)  \n",
       "1  POINT (31.50891 -25.49922)  \n",
       "2  POINT (30.93087 -24.34258)  \n",
       "3  POINT (31.51972 -24.85461)  \n",
       "4  POINT (31.52084 -24.92107)  "
      ]
     },
     "execution_count": 11,
     "metadata": {},
     "output_type": "execute_result"
    }
   ],
   "source": [
    "# gpd.GeoDataFrame(posts, geometry=gpd.points_from_xy(posts.lon, posts.lat))\n",
    "posts_gpd = gpd.GeoDataFrame(posts, geometry = posts.geometry)\n",
    "posts_gpd.head()"
   ]
  },
  {
   "cell_type": "code",
   "execution_count": 12,
   "metadata": {},
   "outputs": [],
   "source": [
    "posts_gpd = posts_gpd.set_crs(epsg=4326)"
   ]
  },
  {
   "cell_type": "code",
   "execution_count": 13,
   "metadata": {},
   "outputs": [],
   "source": [
    "posts_gpd.to_file(driver = 'ESRI Shapefile', filename = \"HW1_data/Kruger_posts.shp\")"
   ]
  },
  {
   "cell_type": "code",
   "execution_count": 14,
   "metadata": {},
   "outputs": [
    {
     "data": {
      "text/plain": [
       "<matplotlib.axes._subplots.AxesSubplot at 0x7f8c27d0ccd0>"
      ]
     },
     "execution_count": 14,
     "metadata": {},
     "output_type": "execute_result"
    },
    {
     "data": {
      "image/png": "[encoded data removed]",
      "text/plain": [
       "<Figure size 432x288 with 1 Axes>"
      ]
     },
     "metadata": {
      "needs_background": "light"
     },
     "output_type": "display_data"
    }
   ],
   "source": [
    "posts_gpd.plot()"
   ]
  },
  {
   "cell_type": "markdown",
   "metadata": {},
   "source": [
    "## Задание №4. Movements of individual user. 6 баллов."
   ]
  },
  {
   "cell_type": "markdown",
   "metadata": {},
   "source": [
    "Please use data from previous task:"
   ]
  },
  {
   "cell_type": "code",
   "execution_count": 15,
   "metadata": {},
   "outputs": [],
   "source": [
    "posts = gpd.read_file('HW1_data/Kruger_posts.shp')"
   ]
  },
  {
   "cell_type": "markdown",
   "metadata": {},
   "source": [
    "1. Group the data by `userid`\n",
    "2. Create an empty GeoDataFrame\n",
    "3. For each user:\n",
    "   - sort the rows by `timestamp`\n",
    "   - create _LineString_ objects based on the points\n",
    "   - add the `geometry` and the `userid` into the GeoDataFrame you created in the last step\n",
    "4. Determine the CRS of your GeoDataFrame to WGS84 (epsg code: 4326)\n",
    "5. Save the movements of each user into a separate Shapefile\n",
    "   - Name the output Shapefile based on the `userid` number"
   ]
  },
  {
   "cell_type": "code",
   "execution_count": 16,
   "metadata": {},
   "outputs": [],
   "source": [
    "posts_gpd_grouped = posts_gpd.sort_values(['userid', 'timestamp']).groupby('userid')[['geometry']].agg(lambda x: x.values)\n",
    "posts_gpd_grouped['line'] = posts_gpd_grouped.geometry.apply(lambda points: LineString((points[0], points[-1])))\n",
    "posts_gpd_grouped['lines'] = posts_gpd_grouped.geometry.apply(\n",
    "    lambda points: [LineString((p[0], p[1])) for p in zip(points, points[1:])])\n",
    "posts_gpd_grouped['multiLines'] = posts_gpd_grouped.lines.apply(lambda lines: MultiLineString(lines))"
   ]
  },
  {
   "cell_type": "code",
   "execution_count": 17,
   "metadata": {},
   "outputs": [],
   "source": [
    "# The table is already in the WGS84 format\n",
    "for i in range(posts_gpd_grouped.shape[0]):\n",
    "    gpd.GeoDataFrame(posts_gpd_grouped.iloc[i][['line', 'multiLines']], crs={'proj': 'longlat', 'ellps': 'WGS84', 'datum': 'WGS84', 'no_defs': True}, geometry=int(posts_gpd_grouped.index[i])).to_file(driver = 'ESRI Shapefile', filename = f\"HW1_data/users/{posts_gpd_grouped.index[i]}_posts.shp\")"
   ]
  },
  {
   "cell_type": "markdown",
   "metadata": {},
   "source": [
    "## Задание №5. Join accessibility datasets into a grid and visualize them by using a classifier. 4 балла."
   ]
  },
  {
   "cell_type": "markdown",
   "metadata": {},
   "source": [
    "A dataset from `dataE4.zip` includes 7 text files containing data about accessibility in Helsinki Region and a Shapefile that contains a Polygon grid that can be used to visualize and analyze the data spatially. The datasets are:\n",
    "\n",
    " - `travel_times_to_[XXXXXXX]_[NAME-OF-THE-CENTER].txt` including travel times and road network distances to specific shopping center\n",
    " - `MetropAccess_YKR_grid_EurefFIN.shp` including the Polygon grid with __YKR_ID__ column that can be used to join the grid with the accessibility data\n",
    " \n",
    "Find out more about the data [here](https://blogs.helsinki.fi/accessibility/helsinki-region-travel-time-matrix-2015/)"
   ]
  },
  {
   "cell_type": "markdown",
   "metadata": {},
   "source": [
    "1. Read those travel_time data files (one by one) with Pandas and select only following columns from them:\n",
    "\n",
    " - `pt_r_tt`\n",
    " - `car_r_t`\n",
    " - `from_id`\n",
    " - `to_id`\n",
    "\n",
    "\n",
    "2. Visualize the classified travel times (Public transport AND Car) of at least one of the shopping centers using any classification method (see [PySAL](https://pysal.org/) for more details upon classification methods). You need to classify the data into a new column in your GeoDataFrame."
   ]
  },
  {
   "cell_type": "code",
   "execution_count": 18,
   "metadata": {},
   "outputs": [
    {
     "name": "stdout",
     "output_type": "stream",
     "text": [
      "['HW1_data/dataE4/TravelTimes_to_5980260_Ruoholahti.txt', 'HW1_data/dataE4/TravelTimes_to_5902043_Myyrmanni.txt', 'HW1_data/dataE4/TravelTimes_to_5944003_Itis.txt', 'HW1_data/dataE4/TravelTimes_to_5878070_Jumbo.txt', 'HW1_data/dataE4/TravelTimes_to_5878087_Dixi.txt', 'HW1_data/dataE4/TravelTimes_to_5975373_Forum.txt', 'HW1_data/dataE4/TravelTimes_to_5978593_Iso_omena.txt']\n"
     ]
    }
   ],
   "source": [
    "import os\n",
    "files = []\n",
    "for file in os.listdir(\"HW1_data/dataE4\"):\n",
    "    if file.endswith(\".txt\"):\n",
    "        files.append(os.path.join(\"HW1_data/dataE4\", file))\n",
    "print(files)"
   ]
  },
  {
   "cell_type": "code",
   "execution_count": 19,
   "metadata": {},
   "outputs": [
    {
     "name": "stdout",
     "output_type": "stream",
     "text": [
      "from_id;to_id;walk_t;walk_d;car_r_t;car_r_d;car_m_t;car_m_d;pt_r_t;pt_r_tt;pt_r_d;pt_m_t;pt_m_tt;pt_m_d\n",
      "5785640;5980260;468;32784;56;33768;49;33805;118;147;34474;125;156;34474\n",
      "5785641;5980260;431;30168;56;33979;49;34016;121;142;34680;128;155;34680\n",
      "5785642;5980260;432;30247;63;33380;56;31641;123;142;34797;130;156;34797\n",
      "5785643;5980260;436;30540;67;35937;60;34198;127;153;35090;134;160;35090\n",
      "5787544;5980260;461;32295;55;33342;48;33380;111;130;33984;118;135;33984\n",
      "5787545;5980260;462;32364;58;33628;51;33666;112;130;34053;119;140;34053\n",
      "5787546;5980260;466;32590;60;32406;54;30667;115;147;34279;122;147;34279\n",
      "5787547;5980260;429;30054;59;32797;52;31058;128;150;35178;135;158;35178\n",
      "5787548;5980260;426;29828;58;32919;51;31180;124;143;34906;131;154;34906\n"
     ]
    }
   ],
   "source": [
    "!head HW1_data/dataE4/TravelTimes_to_5980260_Ruoholahti.txt"
   ]
  },
  {
   "cell_type": "code",
   "execution_count": 20,
   "metadata": {},
   "outputs": [],
   "source": [
    "travel_times = []\n",
    "for file in files:\n",
    "    travel_times.append(pd.read_csv(file, sep=';')[['pt_r_tt', 'car_r_t', 'from_id', 'to_id',]])\n",
    "    travel_times[-1]['file_name'] = file\n",
    "travel_times = gpd.GeoDataFrame(pd.concat(travel_times))"
   ]
  },
  {
   "cell_type": "code",
   "execution_count": 21,
   "metadata": {},
   "outputs": [],
   "source": [
    "metrop_access = gpd.read_file('HW1_data/dataE4/MetropAccess_YKR_grid_EurefFIN.shp')"
   ]
  },
  {
   "cell_type": "code",
   "execution_count": 22,
   "metadata": {},
   "outputs": [],
   "source": [
    "all_data = travel_times.merge(metrop_access, left_on='from_id', right_on='YKR_ID', how='left')\n",
    "all_data.replace(to_replace={-1: 999}, inplace=True)"
   ]
  },
  {
   "cell_type": "code",
   "execution_count": 23,
   "metadata": {},
   "outputs": [],
   "source": [
    "clf = mapclassify.Quantiles.make(k=15)\n",
    "all_data['pt_r_tt_clf'] = clf(all_data['pt_r_tt'])\n",
    "\n",
    "clf = mapclassify.Quantiles.make(k=15)\n",
    "all_data['car_r_t_clf'] = clf(all_data['car_r_t'])"
   ]
  },
  {
   "cell_type": "code",
   "execution_count": 24,
   "metadata": {},
   "outputs": [
    {
     "data": {
      "text/plain": [
       "<matplotlib.axes._subplots.AxesSubplot at 0x7f8c2ca42590>"
      ]
     },
     "execution_count": 24,
     "metadata": {},
     "output_type": "execute_result"
    },
    {
     "data": {
      "image/png": "[encoded data removed]",
      "text/plain": [
       "<Figure size 432x288 with 2 Axes>"
      ]
     },
     "metadata": {
      "needs_background": "light"
     },
     "output_type": "display_data"
    }
   ],
   "source": [
    "all_data.plot(column='pt_r_tt_clf', legend=True)"
   ]
  },
  {
   "cell_type": "code",
   "execution_count": 25,
   "metadata": {},
   "outputs": [
    {
     "data": {
      "text/plain": [
       "<matplotlib.axes._subplots.AxesSubplot at 0x7f8c2cb48210>"
      ]
     },
     "execution_count": 25,
     "metadata": {},
     "output_type": "execute_result"
    },
    {
     "data": {
      "image/png": "[encoded data removed]",
      "text/plain": [
       "<Figure size 432x288 with 2 Axes>"
      ]
     },
     "metadata": {
      "needs_background": "light"
     },
     "output_type": "display_data"
    }
   ],
   "source": [
    "all_data.plot(column='car_r_t_clf', legend=True)"
   ]
  },
  {
   "cell_type": "markdown",
   "metadata": {},
   "source": [
    "The shopping center:"
   ]
  },
  {
   "cell_type": "code",
   "execution_count": 26,
   "metadata": {},
   "outputs": [
    {
     "data": {
      "text/plain": [
       "<matplotlib.axes._subplots.AxesSubplot at 0x7f8c2cc7c6d0>"
      ]
     },
     "execution_count": 26,
     "metadata": {},
     "output_type": "execute_result"
    },
    {
     "data": {
      "image/png": "[encoded data removed]",
      "text/plain": [
       "<Figure size 432x288 with 2 Axes>"
      ]
     },
     "metadata": {
      "needs_background": "light"
     },
     "output_type": "display_data"
    }
   ],
   "source": [
    "all_data[all_data.file_name == 'HW1_data/dataE4/TravelTimes_to_5980260_Ruoholahti.txt'].plot(column='pt_r_tt_clf', legend=True)"
   ]
  },
  {
   "cell_type": "code",
   "execution_count": 27,
   "metadata": {},
   "outputs": [
    {
     "data": {
      "text/plain": [
       "<matplotlib.axes._subplots.AxesSubplot at 0x7f8c2ce2b910>"
      ]
     },
     "execution_count": 27,
     "metadata": {},
     "output_type": "execute_result"
    },
    {
     "data": {
      "image/png": "[encoded data removed]",
      "text/plain": [
       "<Figure size 432x288 with 2 Axes>"
      ]
     },
     "metadata": {
      "needs_background": "light"
     },
     "output_type": "display_data"
    }
   ],
   "source": [
    "all_data[all_data.file_name == 'HW1_data/dataE4/TravelTimes_to_5980260_Ruoholahti.txt'].plot(column='car_r_t_clf', legend=True)"
   ]
  },
  {
   "cell_type": "markdown",
   "metadata": {},
   "source": [
    "## Задание №6. Calculate and visualize the dominance areas of shopping centers. 6 баллов."
   ]
  },
  {
   "cell_type": "markdown",
   "metadata": {},
   "source": [
    "Please use data from previous task. The aim is to define the dominance area for each of those shopping centers based on travel time:"
   ]
  },
  {
   "cell_type": "markdown",
   "metadata": {},
   "source": [
    "1. Iterate over the accessibility files one by one\n",
    "2. Rename the travel time columns so that they can be identified\n",
    "   - you can include e.g. the `to_id` number as part of the column name (then the column name could be e.g. \"pt_r_tt_5987221\")\n",
    "3. Join those columns into `MetropAccess_YKR_grid_EurefFIN.shp` where __YKR_ID__ in the grid corresponds to `from_id` in the travel time data file. At the end you should have a GeoDataFrame with different columns show the travel times to different shopping centers.\n",
    "4. For each row find out the __minimum__ value of __all__ `pt_r_tt_XXXXXX` columns and insert that value into a new column called `min_time_pt`. You can now also parse the `to_id` value from the column name (i.e. parse the last number-series from the column text) that had the minimum travel time value and insert that value as a number into a column called `dominant_service`. In this, way are able to determine the \"closest\" shopping center for each grid cell and visualize it either by travel times or by using the __YKR_ID__ number of the shopping center (i.e. that number series that was used in column name).\n",
    "5. Visualize the travel times of our `min_time_pt` column using any classifier.\n",
    "6. Visualize also the values in `dominant_service` column (no need to use any specific classifier). Notice that the value should be a number. If it is still as text, you need to convert it first."
   ]
  },
  {
   "cell_type": "code",
   "execution_count": 28,
   "metadata": {},
   "outputs": [],
   "source": [
    "metrop_access = gpd.read_file('HW1_data/dataE4/MetropAccess_YKR_grid_EurefFIN.shp')\n",
    "for c in travel_times.file_name.unique():\n",
    "    metrop_access = metrop_access.merge(\n",
    "        travel_times[travel_times.file_name == c][['from_id', 'pt_r_tt']].rename(columns={'pt_r_tt': f'pt_r_tt_{c[31:38]}', 'from_id': 'YKR_ID'}), \n",
    "        on='YKR_ID').copy()"
   ]
  },
  {
   "cell_type": "code",
   "execution_count": 29,
   "metadata": {},
   "outputs": [
    {
     "data": {
      "text/plain": [
       "Index(['x', 'y', 'YKR_ID', 'geometry', 'pt_r_tt_5980260', 'pt_r_tt_5902043',\n",
       "       'pt_r_tt_5944003', 'pt_r_tt_5878070', 'pt_r_tt_5878087',\n",
       "       'pt_r_tt_5975373', 'pt_r_tt_5978593'],\n",
       "      dtype='object')"
      ]
     },
     "execution_count": 29,
     "metadata": {},
     "output_type": "execute_result"
    }
   ],
   "source": [
    "metrop_access.replace(to_replace={-1: 999}, inplace=True)\n",
    "metrop_access.columns"
   ]
  },
  {
   "cell_type": "code",
   "execution_count": 30,
   "metadata": {},
   "outputs": [],
   "source": [
    "metrop_access['min_time_pt'] = metrop_access[[f'pt_r_tt_{c[31:38]}' for c in travel_times.file_name.unique()]].min(axis=1)"
   ]
  },
  {
   "cell_type": "code",
   "execution_count": 31,
   "metadata": {},
   "outputs": [],
   "source": [
    "metrop_access['dominant_service'] = metrop_access[[f'pt_r_tt_{c[31:38]}' for c in travel_times.file_name.unique()]].idxmin(axis=1).str[8:]"
   ]
  },
  {
   "cell_type": "code",
   "execution_count": 32,
   "metadata": {},
   "outputs": [],
   "source": [
    "clf = mapclassify.Quantiles.make(k=15)\n",
    "metrop_access['min_time_pt_clf'] = clf(metrop_access['min_time_pt'])"
   ]
  },
  {
   "cell_type": "code",
   "execution_count": 33,
   "metadata": {},
   "outputs": [
    {
     "data": {
      "text/plain": [
       "<matplotlib.axes._subplots.AxesSubplot at 0x7f8c0ef65b10>"
      ]
     },
     "execution_count": 33,
     "metadata": {},
     "output_type": "execute_result"
    },
    {
     "data": {
      "image/png": "[encoded data removed]",
      "text/plain": [
       "<Figure size 432x288 with 2 Axes>"
      ]
     },
     "metadata": {
      "needs_background": "light"
     },
     "output_type": "display_data"
    }
   ],
   "source": [
    "metrop_access.plot(column='min_time_pt_clf', legend=True)"
   ]
  },
  {
   "cell_type": "code",
   "execution_count": 34,
   "metadata": {},
   "outputs": [
    {
     "data": {
      "text/plain": [
       "<matplotlib.axes._subplots.AxesSubplot at 0x7f8c0fcfbb50>"
      ]
     },
     "execution_count": 34,
     "metadata": {},
     "output_type": "execute_result"
    },
    {
     "data": {
      "image/png": "[encoded data removed]",
      "text/plain": [
       "<Figure size 432x288 with 1 Axes>"
      ]
     },
     "metadata": {
      "needs_background": "light"
     },
     "output_type": "display_data"
    }
   ],
   "source": [
    "metrop_access.plot(column='dominant_service', legend=True)"
   ]
  }
 ],
 "metadata": {
  "kernelspec": {
   "display_name": "Python 3",
   "language": "python",
   "name": "python3"
  },
  "language_info": {
   "codemirror_mode": {
    "name": "ipython",
    "version": 3
   },
   "file_extension": ".py",
   "mimetype": "text/x-python",
   "name": "python",
   "nbconvert_exporter": "python",
   "pygments_lexer": "ipython3",
   "version": "3.7.6"
  }
 },
 "nbformat": 4,
 "nbformat_minor": 4
}
